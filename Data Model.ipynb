{
 "cells": [
  {
   "cell_type": "code",
   "execution_count": 1,
   "metadata": {},
   "outputs": [],
   "source": [
    "#Import libraries\n",
    "import pandas as pd # CSV file I/O (pd.read_csv)\n",
    "import numpy as np #linear algebra\n",
    "import matplotlib.pyplot as plt\n",
    "import seaborn as sns\n",
    "from sklearn.preprocessing import PolynomialFeatures\n",
    "#Import data\n",
    "gini = pd.read_csv('gini.csv')\n",
    "prod = pd.read_csv('Productivity.csv')"
   ]
  },
  {
   "cell_type": "code",
   "execution_count": 2,
   "metadata": {},
   "outputs": [],
   "source": [
    "#Cleaning the data\n",
    "gini.drop(['Country Code'],axis=1,inplace=True)\n",
    "gini.columns.values[0]='Country'\n",
    "gini.columns.values[2]='Gini'\n",
    "prod = prod.drop(['LOCATION','TIME','Subject', 'Unit','Unit Code','MEASURE','Measure','PowerCode','Reference Period Code','Reference Period', 'PowerCode Code','Flag Codes', 'Flags'], axis=1)\n",
    "prod.replace(\"China (People's Republic of)\",\"China\",inplace=True)\n",
    "gini.replace(\"Russian Federation\",\"Russia\",inplace=True)\n",
    "gini.replace(\"Korea, Rep.\",\"Korea\",inplace=True)"
   ]
  },
  {
   "cell_type": "code",
   "execution_count": 3,
   "metadata": {},
   "outputs": [
    {
     "data": {
      "text/plain": [
       "0"
      ]
     },
     "execution_count": 3,
     "metadata": {},
     "output_type": "execute_result"
    }
   ],
   "source": [
    "#Confirming absence of null values\n",
    "gini.isnull().any().sum() + prod.isnull().any().sum()"
   ]
  },
  {
   "cell_type": "code",
   "execution_count": 4,
   "metadata": {},
   "outputs": [],
   "source": [
    "prod_gdpemp = prod[prod['SUBJECT'] == 'T_GDPEMP'] #GDP per person employed\n",
    "prod_gdppop = prod[prod['SUBJECT'] == 'T_GDPPOP'] #GDP per head of population\n",
    "prod_gdphrs = prod[prod['SUBJECT'] == 'T_GDPHRS'] #GDP per hour worked"
   ]
  },
  {
   "cell_type": "code",
   "execution_count": 5,
   "metadata": {},
   "outputs": [
    {
     "data": {
      "text/plain": [
       "['Australia',\n",
       " 'Austria',\n",
       " 'Belgium',\n",
       " 'Brazil',\n",
       " 'Canada',\n",
       " 'Chile',\n",
       " 'China',\n",
       " 'Colombia',\n",
       " 'Czech Republic',\n",
       " 'Denmark',\n",
       " 'Estonia',\n",
       " 'Finland',\n",
       " 'France',\n",
       " 'Germany',\n",
       " 'Greece',\n",
       " 'Hungary',\n",
       " 'Iceland',\n",
       " 'India',\n",
       " 'Indonesia',\n",
       " 'Ireland',\n",
       " 'Israel',\n",
       " 'Italy',\n",
       " 'Japan',\n",
       " 'Korea',\n",
       " 'Latvia',\n",
       " 'Lithuania',\n",
       " 'Luxembourg',\n",
       " 'Mexico',\n",
       " 'Netherlands',\n",
       " 'Norway',\n",
       " 'Poland',\n",
       " 'Portugal',\n",
       " 'Russia',\n",
       " 'Slovak Republic',\n",
       " 'Slovenia',\n",
       " 'South Africa',\n",
       " 'Spain',\n",
       " 'Sweden',\n",
       " 'Switzerland',\n",
       " 'Turkey',\n",
       " 'United Kingdom',\n",
       " 'United States']"
      ]
     },
     "execution_count": 5,
     "metadata": {},
     "output_type": "execute_result"
    }
   ],
   "source": [
    "def intersection(lst1, lst2): \n",
    "    lst3 = [value for value in lst1 if value in lst2] \n",
    "    return lst3 \n",
    "gdpemp_countries = prod_gdpemp['Country'].unique().tolist()\n",
    "gini_countries = gini['Country'].unique().tolist()\n",
    "countries = intersection(gdpemp_countries, gini_countries)\n",
    "countries.sort()\n",
    "countries\n",
    "#countries included in both GiniPerEmp and Productivity set"
   ]
  },
  {
   "cell_type": "code",
   "execution_count": 6,
   "metadata": {},
   "outputs": [],
   "source": [
    "def difference(lst1, lst2): \n",
    "    lst3 = [value for value in lst1 if value not in lst2] \n",
    "    return lst3 \n",
    "def merge(list1, list2): \n",
    "    merged_list = tuple(zip(list1, list2))  \n",
    "    return merged_list "
   ]
  },
  {
   "cell_type": "code",
   "execution_count": 7,
   "metadata": {
    "scrolled": false
   },
   "outputs": [],
   "source": [
    "import warnings; warnings.simplefilter('ignore')\n",
    "corr = []\n",
    "impute_iter = []\n",
    "iter = 10; #number of imputations\n",
    "for i in range (iter): \n",
    "    for country in countries:\n",
    "        pyears = prod_gdpemp[prod_gdpemp.Country == country].Time.tolist()\n",
    "        pyear_min = pyears[0]\n",
    "        pyear_max = pyears[len(pyears)-1]\n",
    "        \n",
    "        g_gdpemp_years = gini[gini.Country == country].Year.tolist()\n",
    "        gyear_min = g_gdpemp_years[0]\n",
    "        gyear_max = g_gdpemp_years[len(g_gdpemp_years)-1]\n",
    "\n",
    "        if(gyear_min < pyear_min):\n",
    "            minyear = pyear_min \n",
    "        else:\n",
    "            minyear = gyear_min\n",
    "        if(gyear_max > pyear_max):\n",
    "            maxyear = pyear_max\n",
    "        else:\n",
    "            maxyear = gyear_max\n",
    "        \n",
    "        #requiring four data points for multiple imputation validity\n",
    "        if(maxyear - minyear > 2):\n",
    "            #years available from productivity\n",
    "            prod_range = [i for i in pyears if i >= minyear and i <=maxyear]\n",
    "            gini_range = [i for i in g_gdpemp_years if i >= minyear and i <=maxyear]\n",
    "            gyear_lacks = difference(prod_range,gini_range)\n",
    "            \n",
    "            #productivity\n",
    "            x = prod_gdpemp[prod_gdpemp.Country == country]\n",
    "            x1 = x.loc[(x['Time'] >= minyear) & (x['Time'] <= maxyear)]\n",
    "            prod_years = x1.Time.tolist()\n",
    "            prod_values = x1.Value.tolist() \n",
    "            prod_full = merge(prod_years,prod_values)\n",
    "\n",
    "            #Isolate Gini years to match productivity\n",
    "            y = gini[gini.Country == country]\n",
    "            y1 = y.loc[(y['Year'] >= minyear) & (y['Year'] <= maxyear)]\n",
    "            gini_years = y1.Year.tolist()\n",
    "            gini_values = y1.Gini.tolist() \n",
    "            noise = np.random.normal(0,np.std(gini_values),len(prod_range))\n",
    "\n",
    "            #gini imputated with a polynomial degree 3\n",
    "            g = np.polyfit(y1.Year.tolist(), y1.Gini.tolist(), 3)\n",
    "            g1 = np.poly1d(g)\n",
    "            gini_imp = []\n",
    "            \n",
    "            for i in range(len(gyear_lacks)):\n",
    "                gini_imp.append(g1(gyear_lacks[i]) + noise[i])\n",
    "\n",
    "            gini_missing = merge(gyear_lacks, gini_imp)\n",
    "            gini_original = merge(gini_years, gini_values)\n",
    "            gini_full = gini_original + gini_missing\n",
    "            gini_full = sorted(gini_full, key=lambda tup: tup[0])\n",
    "\n",
    "            gini_full_gini = []\n",
    "            prod_full_prod = []\n",
    "\n",
    "            for i in range(len(gini_full)):\n",
    "                gini_full_gini.append(gini_full[i][1])\n",
    "                prod_full_prod.append(prod_full[i][1])\n",
    "                \n",
    "            corr.append(np.corrcoef(prod_full_prod, gini_full_gini)[0][1])\n",
    "            impute_iter.append((country, np.corrcoef(prod_full_prod, gini_full_gini)[0][1]))\n",
    "            corr = []"
   ]
  },
  {
   "cell_type": "code",
   "execution_count": 8,
   "metadata": {},
   "outputs": [
    {
     "name": "stdout",
     "output_type": "stream",
     "text": [
      "Correlation between Gini and GDP per Employee with 10 imputations\n",
      "('Brazil', -0.9529113205558032)\n",
      "('Portugal', -0.8654758540101499)\n",
      "('China', -0.7954338302741701)\n",
      "('Slovenia', -0.793400494648852)\n",
      "('Chile', -0.7866035592967691)\n",
      "('Estonia', -0.7641520418860284)\n",
      "('Switzerland', -0.7353102925135542)\n",
      "('Mexico', -0.7242058730207294)\n",
      "('United Kingdom', -0.7176426067387617)\n",
      "('Belgium', -0.6590023024538468)\n",
      "('Norway', -0.6435504418174655)\n",
      "('Finland', -0.6178097806942829)\n",
      "('Colombia', -0.5563494810295434)\n",
      "('Turkey', -0.491131214553572)\n",
      "('Netherlands', -0.45766574953770955)\n",
      "('Iceland', -0.3333970573179649)\n",
      "('Czech Republic', -0.25562442271431474)\n",
      "('Ireland', -0.10246651242626467)\n",
      "('Korea', -0.08210136676262306)\n",
      "('Slovak Republic', -0.03528601860896927)\n",
      "('Russia', 0.04867146573212773)\n",
      "('Hungary', 0.1067201262573162)\n",
      "('Latvia', 0.21158073771738234)\n",
      "('Poland', 0.35443398131310283)\n",
      "('Lithuania', 0.390371640884667)\n",
      "('Italy', 0.3962433185172252)\n",
      "('Israel', 0.4914178062209153)\n",
      "('Luxembourg', 0.5679514975122509)\n",
      "('Greece', 0.5951581476869129)\n",
      "('Australia', 0.6122173063714198)\n",
      "('Austria', 0.6221258786806141)\n",
      "('France', 0.6568605740844771)\n",
      "('South Africa', 0.706260133650261)\n",
      "('United States', 0.7140812935161951)\n",
      "('Germany', 0.716549994668619)\n",
      "('Canada', 0.7484613379331699)\n",
      "('Sweden', 0.8310600293532839)\n",
      "('Denmark', 0.9334025902947312)\n",
      "('Spain', 0.9661651456944137)\n",
      "Average correlation: -0.017943261917238187\n"
     ]
    }
   ],
   "source": [
    "print(\"Correlation between Gini and GDP per Employee with\", iter,\"imputations\")\n",
    "#the impute_iter contains all iterations of the imputation, performed n = iter times\n",
    "avg_len = int(len(impute_iter)/(iter))\n",
    "averages = [0] * avg_len\n",
    "\n",
    "country_list = []\n",
    "for i in range(0, avg_len):\n",
    "    country_list.append(impute_iter[i][0])\n",
    "    \n",
    "for i in range(0, len(impute_iter)):\n",
    "    averages[i % avg_len] = averages[i % avg_len] + impute_iter[i][1]\n",
    "    \n",
    "to_sort = []\n",
    "\n",
    "for i in range(0, avg_len):\n",
    "    averages[i] = averages[i]/iter\n",
    "    to_sort.append((country_list[i], averages[i]))\n",
    "\n",
    "to_sort = sorted(to_sort, key=lambda tup: tup[1])\n",
    "for i in range(0, avg_len):\n",
    "    print(to_sort[i])\n",
    "\n",
    "print(\"Average correlation:\", sum(averages)/len(averages))"
   ]
  },
  {
   "cell_type": "code",
   "execution_count": null,
   "metadata": {},
   "outputs": [],
   "source": []
  },
  {
   "cell_type": "code",
   "execution_count": null,
   "metadata": {},
   "outputs": [],
   "source": []
  }
 ],
 "metadata": {
  "kernelspec": {
   "display_name": "Python 3",
   "language": "python",
   "name": "python3"
  },
  "language_info": {
   "codemirror_mode": {
    "name": "ipython",
    "version": 3
   },
   "file_extension": ".py",
   "mimetype": "text/x-python",
   "name": "python",
   "nbconvert_exporter": "python",
   "pygments_lexer": "ipython3",
   "version": "3.7.0"
  }
 },
 "nbformat": 4,
 "nbformat_minor": 2
}
